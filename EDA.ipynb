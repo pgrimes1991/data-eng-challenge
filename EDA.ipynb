{
 "cells": [
  {
   "cell_type": "markdown",
   "metadata": {},
   "source": [
    "# Cyndx DE Challenge"
   ]
  },
  {
   "cell_type": "code",
   "execution_count": 1,
   "metadata": {},
   "outputs": [],
   "source": [
    "import pandas as pd\n",
    "from sqlalchemy import create_engine, inspect\n",
    "from sqlalchemy.engine import reflection\n",
    "import psycopg2"
   ]
  },
  {
   "cell_type": "markdown",
   "metadata": {},
   "source": [
    "## Prepare `company_contacts.csv` \n",
    "Load `company_contacts.csv` into Memory"
   ]
  },
  {
   "cell_type": "code",
   "execution_count": 2,
   "metadata": {},
   "outputs": [
    {
     "name": "stdout",
     "output_type": "stream",
     "text": [
      "(13551, 4)\n"
     ]
    },
    {
     "data": {
      "text/html": [
       "<div>\n",
       "<style scoped>\n",
       "    .dataframe tbody tr th:only-of-type {\n",
       "        vertical-align: middle;\n",
       "    }\n",
       "\n",
       "    .dataframe tbody tr th {\n",
       "        vertical-align: top;\n",
       "    }\n",
       "\n",
       "    .dataframe thead th {\n",
       "        text-align: right;\n",
       "    }\n",
       "</style>\n",
       "<table border=\"1\" class=\"dataframe\">\n",
       "  <thead>\n",
       "    <tr style=\"text-align: right;\">\n",
       "      <th></th>\n",
       "      <th>homepage_url</th>\n",
       "      <th>email</th>\n",
       "      <th>phone</th>\n",
       "      <th>uuid</th>\n",
       "    </tr>\n",
       "  </thead>\n",
       "  <tbody>\n",
       "    <tr>\n",
       "      <th>0</th>\n",
       "      <td>http://www.intel.com/</td>\n",
       "      <td>NaN</td>\n",
       "      <td>1 4087658080</td>\n",
       "      <td>1e4f199c-363b-451b-a164-f94571075ee5</td>\n",
       "    </tr>\n",
       "    <tr>\n",
       "      <th>1</th>\n",
       "      <td>http://www.gruppoespresso.it/en/nc.html</td>\n",
       "      <td>NaN</td>\n",
       "      <td>390684781</td>\n",
       "      <td>e74463f7-94a8-ab7b-ba31-f4cd57a16570</td>\n",
       "    </tr>\n",
       "    <tr>\n",
       "      <th>2</th>\n",
       "      <td>http://www.cypress.com</td>\n",
       "      <td>customercare@cypress.com</td>\n",
       "      <td>4089432600</td>\n",
       "      <td>2b76e227-6f8d-1a90-a86a-fdb291245333</td>\n",
       "    </tr>\n",
       "    <tr>\n",
       "      <th>3</th>\n",
       "      <td>http://www.microsoft.com</td>\n",
       "      <td>mdcc@microsoft.com</td>\n",
       "      <td>1800 1 441 0158</td>\n",
       "      <td>fd80725f-53fc-7009-9878-aeecf1e9ffbb</td>\n",
       "    </tr>\n",
       "    <tr>\n",
       "      <th>4</th>\n",
       "      <td>http://www.ea.com</td>\n",
       "      <td>contact@ea.com</td>\n",
       "      <td>NaN</td>\n",
       "      <td>5a6207e2-b868-9f41-5178-8d51d2c40a93</td>\n",
       "    </tr>\n",
       "    <tr>\n",
       "      <th>5</th>\n",
       "      <td>https://www.oracle.com</td>\n",
       "      <td>oraclesales_us@oracle.com</td>\n",
       "      <td>NaN</td>\n",
       "      <td>bef5bd4b-72c6-7877-d7ab-8bbe43f7bda7</td>\n",
       "    </tr>\n",
       "    <tr>\n",
       "      <th>6</th>\n",
       "      <td>http://www.kainos.com</td>\n",
       "      <td>info@kainos.com</td>\n",
       "      <td>617 217 2704</td>\n",
       "      <td>a307ed6d-2605-328a-e50a-d83f82871ac7</td>\n",
       "    </tr>\n",
       "    <tr>\n",
       "      <th>7</th>\n",
       "      <td>http://www.cisco.com</td>\n",
       "      <td>NaN</td>\n",
       "      <td>8005536387</td>\n",
       "      <td>e0906c05-fae5-9591-ba5f-2142d8b0065a</td>\n",
       "    </tr>\n",
       "    <tr>\n",
       "      <th>8</th>\n",
       "      <td>http://www.cleanharbors.com</td>\n",
       "      <td>NaN</td>\n",
       "      <td>17817925949</td>\n",
       "      <td>a59a37db-f621-afb1-6d1d-ab30d5d4eeb8</td>\n",
       "    </tr>\n",
       "    <tr>\n",
       "      <th>9</th>\n",
       "      <td>NaN</td>\n",
       "      <td>NaN</td>\n",
       "      <td>NaN</td>\n",
       "      <td>97e3dae0-6b82-cd1e-b450-d54aa4a68dc7</td>\n",
       "    </tr>\n",
       "  </tbody>\n",
       "</table>\n",
       "</div>"
      ],
      "text/plain": [
       "                              homepage_url                      email  \\\n",
       "0                    http://www.intel.com/                        NaN   \n",
       "1  http://www.gruppoespresso.it/en/nc.html                        NaN   \n",
       "2                   http://www.cypress.com   customercare@cypress.com   \n",
       "3                 http://www.microsoft.com         mdcc@microsoft.com   \n",
       "4                        http://www.ea.com             contact@ea.com   \n",
       "5                   https://www.oracle.com  oraclesales_us@oracle.com   \n",
       "6                    http://www.kainos.com            info@kainos.com   \n",
       "7                     http://www.cisco.com                        NaN   \n",
       "8              http://www.cleanharbors.com                        NaN   \n",
       "9                                      NaN                        NaN   \n",
       "\n",
       "             phone                                  uuid  \n",
       "0     1 4087658080  1e4f199c-363b-451b-a164-f94571075ee5  \n",
       "1        390684781  e74463f7-94a8-ab7b-ba31-f4cd57a16570  \n",
       "2       4089432600  2b76e227-6f8d-1a90-a86a-fdb291245333  \n",
       "3  1800 1 441 0158  fd80725f-53fc-7009-9878-aeecf1e9ffbb  \n",
       "4              NaN  5a6207e2-b868-9f41-5178-8d51d2c40a93  \n",
       "5              NaN  bef5bd4b-72c6-7877-d7ab-8bbe43f7bda7  \n",
       "6     617 217 2704  a307ed6d-2605-328a-e50a-d83f82871ac7  \n",
       "7       8005536387  e0906c05-fae5-9591-ba5f-2142d8b0065a  \n",
       "8      17817925949  a59a37db-f621-afb1-6d1d-ab30d5d4eeb8  \n",
       "9              NaN  97e3dae0-6b82-cd1e-b450-d54aa4a68dc7  "
      ]
     },
     "execution_count": 2,
     "metadata": {},
     "output_type": "execute_result"
    }
   ],
   "source": [
    "df_contacts = pd.read_csv('company_contacts.csv')\n",
    "print(df_contacts.shape)\n",
    "df_contacts.head(10)"
   ]
  },
  {
   "cell_type": "markdown",
   "metadata": {},
   "source": [
    "### Parse the Phonenumbers in `company_contacts.csv`"
   ]
  },
  {
   "cell_type": "code",
   "execution_count": 3,
   "metadata": {},
   "outputs": [],
   "source": [
    "import re\n",
    "from phonenumbers import parse, NumberParseException\n",
    "\n",
    "def phone_number_to_string(phone_number):\n",
    "    \"\"\"Convert various numeric types or strings masquerading as numeric types into a string\"\"\"\n",
    "    if not phone_number: return None # Short circuit for null phone numbers\n",
    "    phone_str = str(int(float(phone_number))) if 'E+' in str(phone_number) else str(phone_number) # Modify scientific notation to integer\n",
    "    return str(phone_str) # Cast all to string\n",
    "\n",
    "def clean_phone_number_naive(phone_number):\n",
    "    \"\"\"Clean phone numbers by parsing from right to left \"\"\"\n",
    "    phone_str = phone_number_to_string(phone_number)\n",
    "    if not phone_str: return None # Short circuit for null phone numbers\n",
    "    phone_clean = re.sub('[^0-9]','', phone_str)\n",
    "    last_4 = phone_clean[-4:]\n",
    "    mid_3 = phone_clean[-7:-4]\n",
    "    first_3 = phone_clean[-10:-7]\n",
    "    country = phone_clean[:-10]\n",
    "    if last_4 and len(last_4.strip())>3:\n",
    "        return country+' '+first_3+mid_3+last_4\n",
    "    else:\n",
    "        return None\n",
    "\n",
    "def clean_phone_number_lib(phone_number):\n",
    "    \"\"\"Use the phonenumbers library from Google to parse the phone numbers\"\"\"\n",
    "    phone_str = phone_number_to_string(phone_number)\n",
    "    if not phone_str: return None # Short circuit for null phone numbers\n",
    "    try:\n",
    "        parsed_number = parse(phone_str, 'US')\n",
    "        return str(parsed_number.country_code)+' '+str(parsed_number.national_number)\n",
    "    except NumberParseException as npe:\n",
    "        return None\n",
    "    \n",
    "# Combine methods, prefer clean_phone_number_lib method\n",
    "def combined_clean(phone_number):\n",
    "    \"\"\"Use bother methods to parse/clean the phone number field\"\"\"\n",
    "    phone_clean_combined = clean_phone_number_lib(phone_number)\n",
    "    if not phone_clean_combined: phone_clean_combined = clean_phone_number_naive(phone_number)\n",
    "    return phone_clean_combined        "
   ]
  },
  {
   "cell_type": "markdown",
   "metadata": {},
   "source": [
    "## Phone Clean Results Comparison"
   ]
  },
  {
   "cell_type": "markdown",
   "metadata": {},
   "source": [
    "Both methods have few false negatives -- they don't increase the null count by more than 10 compared to the original data in either case (naive r-l parse vs. phonenumbers parser)\n",
    "\n",
    "Without going to deeply into accuracy we can combine the phonenumbers parser method, and then apply the naive method on any other false negatives, which will remove some additional false negatives. We could then isolate those false negatives and investigate their source."
   ]
  },
  {
   "cell_type": "code",
   "execution_count": 4,
   "metadata": {},
   "outputs": [
    {
     "name": "stdout",
     "output_type": "stream",
     "text": [
      "Nulls in original CSV  1818\n",
      "Null values in phonenumbers parser method:  1826\n"
     ]
    },
    {
     "data": {
      "text/plain": [
       "0     1 4087658080\n",
       "1      1 390684781\n",
       "2     1 4089432600\n",
       "3    1 80014410158\n",
       "4             None\n",
       "5             None\n",
       "6     1 6172172704\n",
       "7     1 8005536387\n",
       "8     1 7817925949\n",
       "9             None\n",
       "Name: phone, dtype: object"
      ]
     },
     "execution_count": 4,
     "metadata": {},
     "output_type": "execute_result"
    }
   ],
   "source": [
    "print('Nulls in original CSV ', len(df_contacts[pd.isnull(df_contacts['phone'])]))\n",
    "print('Null values in phonenumbers parser method: '\n",
    "    ,len([ phone_number for phone_number in df_contacts['phone'].apply(clean_phone_number_lib) if not phone_number])\n",
    ")\n",
    "df_contacts['phone'].apply(clean_phone_number_lib)[0:10]"
   ]
  },
  {
   "cell_type": "code",
   "execution_count": 5,
   "metadata": {},
   "outputs": [
    {
     "name": "stdout",
     "output_type": "stream",
     "text": [
      "Null values in naive r-l method:  1823\n"
     ]
    },
    {
     "data": {
      "text/plain": [
       "0     1 4087658080\n",
       "1        390684781\n",
       "2       4089432600\n",
       "3    18 0014410158\n",
       "4             None\n",
       "5             None\n",
       "6       6172172704\n",
       "7       8005536387\n",
       "8     1 7817925949\n",
       "9             None\n",
       "Name: phone, dtype: object"
      ]
     },
     "execution_count": 5,
     "metadata": {},
     "output_type": "execute_result"
    }
   ],
   "source": [
    "print('Null values in naive r-l method: '\n",
    "    ,len([ phone_number for phone_number in df_contacts['phone'].apply(clean_phone_number_naive) if not phone_number])\n",
    ")\n",
    "df_contacts['phone'].apply(clean_phone_number_naive)[0:10]"
   ]
  },
  {
   "cell_type": "code",
   "execution_count": 6,
   "metadata": {},
   "outputs": [
    {
     "name": "stdout",
     "output_type": "stream",
     "text": [
      "Null values in combined method:  1820\n"
     ]
    },
    {
     "data": {
      "text/plain": [
       "0     1 4087658080\n",
       "1      1 390684781\n",
       "2     1 4089432600\n",
       "3    1 80014410158\n",
       "4             None\n",
       "5             None\n",
       "6     1 6172172704\n",
       "7     1 8005536387\n",
       "8     1 7817925949\n",
       "9             None\n",
       "Name: phone, dtype: object"
      ]
     },
     "execution_count": 6,
     "metadata": {},
     "output_type": "execute_result"
    }
   ],
   "source": [
    "combined_clean_phone_numbers = df_contacts['phone'].apply(combined_clean)\n",
    "print( 'Null values in combined method: ',\n",
    "    len([ phone_number for phone_number in combined_clean_phone_numbers if not phone_number])\n",
    ")\n",
    "combined_clean_phone_numbers[0:10]"
   ]
  },
  {
   "cell_type": "markdown",
   "metadata": {},
   "source": [
    "## Parse the `homepage_url` field to match formatting of `domain`"
   ]
  },
  {
   "cell_type": "code",
   "execution_count": 7,
   "metadata": {},
   "outputs": [
    {
     "data": {
      "text/plain": [
       "0             www.intel.com\n",
       "1     www.gruppoespresso.it\n",
       "2           www.cypress.com\n",
       "3         www.microsoft.com\n",
       "4                www.ea.com\n",
       "5            www.oracle.com\n",
       "6            www.kainos.com\n",
       "7             www.cisco.com\n",
       "8      www.cleanharbors.com\n",
       "9                      None\n",
       "10       www.stericycle.com\n",
       "11         www.progress.com\n",
       "12                     None\n",
       "13         www.rovicorp.com\n",
       "14                     None\n",
       "Name: homepage_url, dtype: object"
      ]
     },
     "execution_count": 7,
     "metadata": {},
     "output_type": "execute_result"
    }
   ],
   "source": [
    "from urllib.parse import urlparse\n",
    "def get_domain(homepage):\n",
    "    \"\"\"Use urllib to parsed domain from a given url\"\"\"\n",
    "    domain = urlparse(str(homepage))[1]\n",
    "    if len(domain)<3: # domain needs at least 3 characters\n",
    "        return None\n",
    "    else:\n",
    "        return domain\n",
    "        \n",
    "    return urlparse(str(homepage))[1]\n",
    "df_contacts['homepage_url'].apply(get_domain)[0:15]"
   ]
  },
  {
   "cell_type": "markdown",
   "metadata": {},
   "source": [
    "## Connect to Postgres and Inspect the Database"
   ]
  },
  {
   "cell_type": "code",
   "execution_count": 8,
   "metadata": {},
   "outputs": [
    {
     "data": {
      "text/plain": [
       "<sqlalchemy.dialects.postgresql.base.PGInspector at 0x1200c6c50>"
      ]
     },
     "execution_count": 8,
     "metadata": {},
     "output_type": "execute_result"
    }
   ],
   "source": [
    "# Normally would store credentials in environment, hardcoded here\n",
    "eng = create_engine('postgresql://{}:{}@data-eng-challenge.cyndx.io:5432/test'.format('de_test_user','cofDen-fuzhu2-moqreq'))\n",
    "insp = inspect(eng)\n",
    "insp"
   ]
  },
  {
   "cell_type": "code",
   "execution_count": 9,
   "metadata": {},
   "outputs": [
    {
     "data": {
      "text/plain": [
       "['dubs',\n",
       " 'companies',\n",
       " 'solution_artyom',\n",
       " 'solution_patrick',\n",
       " 'jbaehne_solution']"
      ]
     },
     "execution_count": 9,
     "metadata": {},
     "output_type": "execute_result"
    }
   ],
   "source": [
    "insp.get_table_names()"
   ]
  },
  {
   "cell_type": "markdown",
   "metadata": {},
   "source": [
    "### Read `companies` Into Pandas"
   ]
  },
  {
   "cell_type": "code",
   "execution_count": 10,
   "metadata": {},
   "outputs": [
    {
     "name": "stdout",
     "output_type": "stream",
     "text": [
      "(1577896, 2)\n"
     ]
    },
    {
     "data": {
      "text/html": [
       "<div>\n",
       "<style scoped>\n",
       "    .dataframe tbody tr th:only-of-type {\n",
       "        vertical-align: middle;\n",
       "    }\n",
       "\n",
       "    .dataframe tbody tr th {\n",
       "        vertical-align: top;\n",
       "    }\n",
       "\n",
       "    .dataframe thead th {\n",
       "        text-align: right;\n",
       "    }\n",
       "</style>\n",
       "<table border=\"1\" class=\"dataframe\">\n",
       "  <thead>\n",
       "    <tr style=\"text-align: right;\">\n",
       "      <th></th>\n",
       "      <th>name</th>\n",
       "      <th>domain</th>\n",
       "    </tr>\n",
       "  </thead>\n",
       "  <tbody>\n",
       "    <tr>\n",
       "      <th>0</th>\n",
       "      <td>Value Creation Fonds-Services GmbH</td>\n",
       "      <td>value-creation-gmbh.de</td>\n",
       "    </tr>\n",
       "    <tr>\n",
       "      <th>1</th>\n",
       "      <td>ValueCreationTeam</td>\n",
       "      <td>valuecreationteam.com</td>\n",
       "    </tr>\n",
       "    <tr>\n",
       "      <th>2</th>\n",
       "      <td>Value Creative International Ltd.</td>\n",
       "      <td>valuecreative.com</td>\n",
       "    </tr>\n",
       "    <tr>\n",
       "      <th>3</th>\n",
       "      <td>valuedesign, Inc.</td>\n",
       "      <td>valuedesign.jp</td>\n",
       "    </tr>\n",
       "    <tr>\n",
       "      <th>4</th>\n",
       "      <td>Valuedge Partners BV</td>\n",
       "      <td>valuedge.nl</td>\n",
       "    </tr>\n",
       "  </tbody>\n",
       "</table>\n",
       "</div>"
      ],
      "text/plain": [
       "                                 name                  domain\n",
       "0  Value Creation Fonds-Services GmbH  value-creation-gmbh.de\n",
       "1                   ValueCreationTeam   valuecreationteam.com\n",
       "2   Value Creative International Ltd.       valuecreative.com\n",
       "3                   valuedesign, Inc.          valuedesign.jp\n",
       "4                Valuedge Partners BV             valuedge.nl"
      ]
     },
     "execution_count": 10,
     "metadata": {},
     "output_type": "execute_result"
    }
   ],
   "source": [
    "sql_all_companies = 'SELECT * FROM companies'\n",
    "df_company_db = pd.read_sql(sql_all_companies, con=eng)\n",
    "print(df_company_db.shape)\n",
    "df_company_db.head()"
   ]
  },
  {
   "cell_type": "markdown",
   "metadata": {},
   "source": [
    "## Create the `solution_patrick` table"
   ]
  },
  {
   "cell_type": "markdown",
   "metadata": {},
   "source": [
    "Structure:\n",
    "\n",
    "CREATE TABLE solution_patrick (\n",
    "  contact_id uuid DEFAULT uuid_generate_v4()\n",
    "  , name text\n",
    "  , domain text\n",
    "  , email text\n",
    "  , phone text\n",
    "  , PRIMARY KEY (contact_id)\n",
    ")\n"
   ]
  },
  {
   "cell_type": "code",
   "execution_count": 11,
   "metadata": {},
   "outputs": [
    {
     "data": {
      "text/plain": [
       "<sqlalchemy.engine.result.ResultProxy at 0x12034b550>"
      ]
     },
     "execution_count": 11,
     "metadata": {},
     "output_type": "execute_result"
    }
   ],
   "source": [
    "# Leverage the existing data from `companies`\n",
    "create_table_sql = \"\"\"\n",
    "CREATE EXTENSION IF NOT EXISTS \"uuid-ossp\";\n",
    "DROP TABLE IF EXISTS solution_patrick;\n",
    "CREATE TABLE solution_patrick AS TABLE companies;\n",
    "ALTER TABLE solution_patrick ADD email text;\n",
    "ALTER TABLE solution_patrick ADD phone text;\n",
    "ALTER TABLE solution_patrick ADD contact_id uuid;\n",
    "\"\"\"\n",
    "# Will need to add primary key constraint later after cleaning data and considering normalization / data model\n",
    "execution = eng.execute(create_table_sql)\n",
    "execution"
   ]
  },
  {
   "cell_type": "code",
   "execution_count": 12,
   "metadata": {},
   "outputs": [
    {
     "data": {
      "text/html": [
       "<div>\n",
       "<style scoped>\n",
       "    .dataframe tbody tr th:only-of-type {\n",
       "        vertical-align: middle;\n",
       "    }\n",
       "\n",
       "    .dataframe tbody tr th {\n",
       "        vertical-align: top;\n",
       "    }\n",
       "\n",
       "    .dataframe thead th {\n",
       "        text-align: right;\n",
       "    }\n",
       "</style>\n",
       "<table border=\"1\" class=\"dataframe\">\n",
       "  <thead>\n",
       "    <tr style=\"text-align: right;\">\n",
       "      <th></th>\n",
       "      <th>homepage_url</th>\n",
       "      <th>email</th>\n",
       "      <th>phone</th>\n",
       "      <th>uuid</th>\n",
       "    </tr>\n",
       "  </thead>\n",
       "  <tbody>\n",
       "    <tr>\n",
       "      <th>9</th>\n",
       "      <td>NaN</td>\n",
       "      <td>NaN</td>\n",
       "      <td>NaN</td>\n",
       "      <td>97e3dae0-6b82-cd1e-b450-d54aa4a68dc7</td>\n",
       "    </tr>\n",
       "    <tr>\n",
       "      <th>12</th>\n",
       "      <td>NaN</td>\n",
       "      <td>NaN</td>\n",
       "      <td>5087782000</td>\n",
       "      <td>01915de2-7ae6-9787-e397-855a71b1fafe</td>\n",
       "    </tr>\n",
       "    <tr>\n",
       "      <th>14</th>\n",
       "      <td>NaN</td>\n",
       "      <td>NaN</td>\n",
       "      <td>NaN</td>\n",
       "      <td>5fe5f05b-16ed-9344-0234-1e1f2f848dd9</td>\n",
       "    </tr>\n",
       "    <tr>\n",
       "      <th>19</th>\n",
       "      <td>http://netapp.com</td>\n",
       "      <td>xdl-uspr@netapp.com</td>\n",
       "      <td>1.14088E+11</td>\n",
       "      <td>bbd3ae58-58e2-d81c-42bf-97d4a07ac0d1</td>\n",
       "    </tr>\n",
       "    <tr>\n",
       "      <th>20</th>\n",
       "      <td>https://veon.com</td>\n",
       "      <td>pr@vimpelcom.com</td>\n",
       "      <td>31 20 797 7200</td>\n",
       "      <td>3565d953-9352-8281-302d-721fd05a0f6a</td>\n",
       "    </tr>\n",
       "    <tr>\n",
       "      <th>26</th>\n",
       "      <td>http://cariboucoffee.com</td>\n",
       "      <td>NaN</td>\n",
       "      <td>1 7635922200</td>\n",
       "      <td>383f5008-b628-a2e9-21e6-111b7bab9242</td>\n",
       "    </tr>\n",
       "    <tr>\n",
       "      <th>35</th>\n",
       "      <td>NaN</td>\n",
       "      <td>NaN</td>\n",
       "      <td>NaN</td>\n",
       "      <td>4b5e9b11-fde4-94f3-a630-b7835c122048</td>\n",
       "    </tr>\n",
       "    <tr>\n",
       "      <th>38</th>\n",
       "      <td>http://ferro.com</td>\n",
       "      <td>NaN</td>\n",
       "      <td>7242283170</td>\n",
       "      <td>92a7f058-61c2-0b8d-986c-376fb982e5b6</td>\n",
       "    </tr>\n",
       "    <tr>\n",
       "      <th>41</th>\n",
       "      <td>http://ebay.com</td>\n",
       "      <td>NaN</td>\n",
       "      <td>41313590590</td>\n",
       "      <td>e56b0ceb-bb30-bbec-805e-d5dc7412dcb1</td>\n",
       "    </tr>\n",
       "    <tr>\n",
       "      <th>44</th>\n",
       "      <td>http://kodak.com</td>\n",
       "      <td>NaN</td>\n",
       "      <td>NaN</td>\n",
       "      <td>bf190e5b-9223-10d8-93d3-34c592db9f82</td>\n",
       "    </tr>\n",
       "  </tbody>\n",
       "</table>\n",
       "</div>"
      ],
      "text/plain": [
       "                homepage_url                email           phone  \\\n",
       "9                        NaN                  NaN             NaN   \n",
       "12                       NaN                  NaN      5087782000   \n",
       "14                       NaN                  NaN             NaN   \n",
       "19         http://netapp.com  xdl-uspr@netapp.com     1.14088E+11   \n",
       "20          https://veon.com     pr@vimpelcom.com  31 20 797 7200   \n",
       "26  http://cariboucoffee.com                  NaN    1 7635922200   \n",
       "35                       NaN                  NaN             NaN   \n",
       "38          http://ferro.com                  NaN      7242283170   \n",
       "41           http://ebay.com                  NaN     41313590590   \n",
       "44          http://kodak.com                  NaN             NaN   \n",
       "\n",
       "                                    uuid  \n",
       "9   97e3dae0-6b82-cd1e-b450-d54aa4a68dc7  \n",
       "12  01915de2-7ae6-9787-e397-855a71b1fafe  \n",
       "14  5fe5f05b-16ed-9344-0234-1e1f2f848dd9  \n",
       "19  bbd3ae58-58e2-d81c-42bf-97d4a07ac0d1  \n",
       "20  3565d953-9352-8281-302d-721fd05a0f6a  \n",
       "26  383f5008-b628-a2e9-21e6-111b7bab9242  \n",
       "35  4b5e9b11-fde4-94f3-a630-b7835c122048  \n",
       "38  92a7f058-61c2-0b8d-986c-376fb982e5b6  \n",
       "41  e56b0ceb-bb30-bbec-805e-d5dc7412dcb1  \n",
       "44  bf190e5b-9223-10d8-93d3-34c592db9f82  "
      ]
     },
     "execution_count": 12,
     "metadata": {},
     "output_type": "execute_result"
    }
   ],
   "source": [
    "# Show where companies.domain and contacts.domain overlap\n",
    "df_contacts[df_contacts['homepage_url'].apply(get_domain).isin(df_company_db['domain'])].head(10)"
   ]
  },
  {
   "cell_type": "code",
   "execution_count": 13,
   "metadata": {},
   "outputs": [
    {
     "data": {
      "text/html": [
       "<div>\n",
       "<style scoped>\n",
       "    .dataframe tbody tr th:only-of-type {\n",
       "        vertical-align: middle;\n",
       "    }\n",
       "\n",
       "    .dataframe tbody tr th {\n",
       "        vertical-align: top;\n",
       "    }\n",
       "\n",
       "    .dataframe thead th {\n",
       "        text-align: right;\n",
       "    }\n",
       "</style>\n",
       "<table border=\"1\" class=\"dataframe\">\n",
       "  <thead>\n",
       "    <tr style=\"text-align: right;\">\n",
       "      <th></th>\n",
       "      <th>name</th>\n",
       "      <th>domain</th>\n",
       "    </tr>\n",
       "  </thead>\n",
       "  <tbody>\n",
       "    <tr>\n",
       "      <th>0</th>\n",
       "      <td>Value Creation Fonds-Services GmbH</td>\n",
       "      <td>value-creation-gmbh.de</td>\n",
       "    </tr>\n",
       "    <tr>\n",
       "      <th>1</th>\n",
       "      <td>ValueCreationTeam</td>\n",
       "      <td>valuecreationteam.com</td>\n",
       "    </tr>\n",
       "    <tr>\n",
       "      <th>2</th>\n",
       "      <td>Value Creative International Ltd.</td>\n",
       "      <td>valuecreative.com</td>\n",
       "    </tr>\n",
       "    <tr>\n",
       "      <th>3</th>\n",
       "      <td>valuedesign, Inc.</td>\n",
       "      <td>valuedesign.jp</td>\n",
       "    </tr>\n",
       "    <tr>\n",
       "      <th>4</th>\n",
       "      <td>Valuedge Partners BV</td>\n",
       "      <td>valuedge.nl</td>\n",
       "    </tr>\n",
       "  </tbody>\n",
       "</table>\n",
       "</div>"
      ],
      "text/plain": [
       "                                 name                  domain\n",
       "0  Value Creation Fonds-Services GmbH  value-creation-gmbh.de\n",
       "1                   ValueCreationTeam   valuecreationteam.com\n",
       "2   Value Creative International Ltd.       valuecreative.com\n",
       "3                   valuedesign, Inc.          valuedesign.jp\n",
       "4                Valuedge Partners BV             valuedge.nl"
      ]
     },
     "execution_count": 13,
     "metadata": {},
     "output_type": "execute_result"
    }
   ],
   "source": [
    "df_company_db.head()"
   ]
  },
  {
   "cell_type": "code",
   "execution_count": 14,
   "metadata": {},
   "outputs": [
    {
     "data": {
      "text/html": [
       "<div>\n",
       "<style scoped>\n",
       "    .dataframe tbody tr th:only-of-type {\n",
       "        vertical-align: middle;\n",
       "    }\n",
       "\n",
       "    .dataframe tbody tr th {\n",
       "        vertical-align: top;\n",
       "    }\n",
       "\n",
       "    .dataframe thead th {\n",
       "        text-align: right;\n",
       "    }\n",
       "</style>\n",
       "<table border=\"1\" class=\"dataframe\">\n",
       "  <thead>\n",
       "    <tr style=\"text-align: right;\">\n",
       "      <th></th>\n",
       "      <th>homepage_url</th>\n",
       "      <th>email</th>\n",
       "      <th>phone</th>\n",
       "      <th>uuid</th>\n",
       "    </tr>\n",
       "  </thead>\n",
       "  <tbody>\n",
       "    <tr>\n",
       "      <th>0</th>\n",
       "      <td>http://www.intel.com/</td>\n",
       "      <td>NaN</td>\n",
       "      <td>1 4087658080</td>\n",
       "      <td>1e4f199c-363b-451b-a164-f94571075ee5</td>\n",
       "    </tr>\n",
       "    <tr>\n",
       "      <th>1</th>\n",
       "      <td>http://www.gruppoespresso.it/en/nc.html</td>\n",
       "      <td>NaN</td>\n",
       "      <td>390684781</td>\n",
       "      <td>e74463f7-94a8-ab7b-ba31-f4cd57a16570</td>\n",
       "    </tr>\n",
       "    <tr>\n",
       "      <th>2</th>\n",
       "      <td>http://www.cypress.com</td>\n",
       "      <td>customercare@cypress.com</td>\n",
       "      <td>4089432600</td>\n",
       "      <td>2b76e227-6f8d-1a90-a86a-fdb291245333</td>\n",
       "    </tr>\n",
       "    <tr>\n",
       "      <th>3</th>\n",
       "      <td>http://www.microsoft.com</td>\n",
       "      <td>mdcc@microsoft.com</td>\n",
       "      <td>1800 1 441 0158</td>\n",
       "      <td>fd80725f-53fc-7009-9878-aeecf1e9ffbb</td>\n",
       "    </tr>\n",
       "    <tr>\n",
       "      <th>4</th>\n",
       "      <td>http://www.ea.com</td>\n",
       "      <td>contact@ea.com</td>\n",
       "      <td>NaN</td>\n",
       "      <td>5a6207e2-b868-9f41-5178-8d51d2c40a93</td>\n",
       "    </tr>\n",
       "  </tbody>\n",
       "</table>\n",
       "</div>"
      ],
      "text/plain": [
       "                              homepage_url                     email  \\\n",
       "0                    http://www.intel.com/                       NaN   \n",
       "1  http://www.gruppoespresso.it/en/nc.html                       NaN   \n",
       "2                   http://www.cypress.com  customercare@cypress.com   \n",
       "3                 http://www.microsoft.com        mdcc@microsoft.com   \n",
       "4                        http://www.ea.com            contact@ea.com   \n",
       "\n",
       "             phone                                  uuid  \n",
       "0     1 4087658080  1e4f199c-363b-451b-a164-f94571075ee5  \n",
       "1        390684781  e74463f7-94a8-ab7b-ba31-f4cd57a16570  \n",
       "2       4089432600  2b76e227-6f8d-1a90-a86a-fdb291245333  \n",
       "3  1800 1 441 0158  fd80725f-53fc-7009-9878-aeecf1e9ffbb  \n",
       "4              NaN  5a6207e2-b868-9f41-5178-8d51d2c40a93  "
      ]
     },
     "execution_count": 14,
     "metadata": {},
     "output_type": "execute_result"
    }
   ],
   "source": [
    "df_contacts.head()"
   ]
  },
  {
   "cell_type": "markdown",
   "metadata": {},
   "source": [
    "## Merge the `company_contacts.csv` and `companies` using Pandas"
   ]
  },
  {
   "cell_type": "markdown",
   "metadata": {},
   "source": [
    "### Part 1 `df_solution`: entries in `company_contacts.csv` with no matching `domain` in `companies`"
   ]
  },
  {
   "cell_type": "code",
   "execution_count": 15,
   "metadata": {},
   "outputs": [
    {
     "data": {
      "text/plain": [
       "10554"
      ]
     },
     "execution_count": 15,
     "metadata": {},
     "output_type": "execute_result"
    }
   ],
   "source": [
    "# Write non-overlapping fields to temp_table in db as insert operation\n",
    "df_contacts_unique = df_contacts[~df_contacts['homepage_url'].apply(get_domain).isin(df_company_db['domain'])]\n",
    "len(df_contacts_unique)"
   ]
  },
  {
   "cell_type": "code",
   "execution_count": 16,
   "metadata": {},
   "outputs": [
    {
     "data": {
      "text/plain": [
       "10554"
      ]
     },
     "execution_count": 16,
     "metadata": {},
     "output_type": "execute_result"
    }
   ],
   "source": [
    "df_new_entries = pd.DataFrame()\n",
    "df_new_entries = df_contacts_unique.copy()\n",
    "df_new_entries['name'] = pd.np.nan\n",
    "df_new_entries['domain'] = df_new_entries['homepage_url'].apply(get_domain)\n",
    "df_new_entries['phone'] = df_new_entries['phone'].apply(combined_clean)\n",
    "df_new_entries['contact_id'] = df_new_entries['uuid']\n",
    "df_new_entries.drop(axis=1,columns='homepage_url', inplace=True)\n",
    "df_new_entries.drop(axis=1,columns='uuid', inplace=True)\n",
    "len(df_new_entries)"
   ]
  },
  {
   "cell_type": "code",
   "execution_count": 17,
   "metadata": {},
   "outputs": [
    {
     "data": {
      "text/html": [
       "<div>\n",
       "<style scoped>\n",
       "    .dataframe tbody tr th:only-of-type {\n",
       "        vertical-align: middle;\n",
       "    }\n",
       "\n",
       "    .dataframe tbody tr th {\n",
       "        vertical-align: top;\n",
       "    }\n",
       "\n",
       "    .dataframe thead th {\n",
       "        text-align: right;\n",
       "    }\n",
       "</style>\n",
       "<table border=\"1\" class=\"dataframe\">\n",
       "  <thead>\n",
       "    <tr style=\"text-align: right;\">\n",
       "      <th></th>\n",
       "      <th>email</th>\n",
       "      <th>phone</th>\n",
       "      <th>name</th>\n",
       "      <th>domain</th>\n",
       "      <th>contact_id</th>\n",
       "    </tr>\n",
       "  </thead>\n",
       "  <tbody>\n",
       "    <tr>\n",
       "      <th>0</th>\n",
       "      <td>NaN</td>\n",
       "      <td>1 4087658080</td>\n",
       "      <td>NaN</td>\n",
       "      <td>www.intel.com</td>\n",
       "      <td>1e4f199c-363b-451b-a164-f94571075ee5</td>\n",
       "    </tr>\n",
       "    <tr>\n",
       "      <th>1</th>\n",
       "      <td>NaN</td>\n",
       "      <td>1 390684781</td>\n",
       "      <td>NaN</td>\n",
       "      <td>www.gruppoespresso.it</td>\n",
       "      <td>e74463f7-94a8-ab7b-ba31-f4cd57a16570</td>\n",
       "    </tr>\n",
       "    <tr>\n",
       "      <th>2</th>\n",
       "      <td>customercare@cypress.com</td>\n",
       "      <td>1 4089432600</td>\n",
       "      <td>NaN</td>\n",
       "      <td>www.cypress.com</td>\n",
       "      <td>2b76e227-6f8d-1a90-a86a-fdb291245333</td>\n",
       "    </tr>\n",
       "    <tr>\n",
       "      <th>3</th>\n",
       "      <td>mdcc@microsoft.com</td>\n",
       "      <td>1 80014410158</td>\n",
       "      <td>NaN</td>\n",
       "      <td>www.microsoft.com</td>\n",
       "      <td>fd80725f-53fc-7009-9878-aeecf1e9ffbb</td>\n",
       "    </tr>\n",
       "    <tr>\n",
       "      <th>4</th>\n",
       "      <td>contact@ea.com</td>\n",
       "      <td>None</td>\n",
       "      <td>NaN</td>\n",
       "      <td>www.ea.com</td>\n",
       "      <td>5a6207e2-b868-9f41-5178-8d51d2c40a93</td>\n",
       "    </tr>\n",
       "  </tbody>\n",
       "</table>\n",
       "</div>"
      ],
      "text/plain": [
       "                      email          phone  name                 domain  \\\n",
       "0                       NaN   1 4087658080   NaN          www.intel.com   \n",
       "1                       NaN    1 390684781   NaN  www.gruppoespresso.it   \n",
       "2  customercare@cypress.com   1 4089432600   NaN        www.cypress.com   \n",
       "3        mdcc@microsoft.com  1 80014410158   NaN      www.microsoft.com   \n",
       "4            contact@ea.com           None   NaN             www.ea.com   \n",
       "\n",
       "                             contact_id  \n",
       "0  1e4f199c-363b-451b-a164-f94571075ee5  \n",
       "1  e74463f7-94a8-ab7b-ba31-f4cd57a16570  \n",
       "2  2b76e227-6f8d-1a90-a86a-fdb291245333  \n",
       "3  fd80725f-53fc-7009-9878-aeecf1e9ffbb  \n",
       "4  5a6207e2-b868-9f41-5178-8d51d2c40a93  "
      ]
     },
     "execution_count": 17,
     "metadata": {},
     "output_type": "execute_result"
    }
   ],
   "source": [
    "df_new_entries.head()"
   ]
  },
  {
   "cell_type": "markdown",
   "metadata": {},
   "source": [
    "### Perform Insert in Postgres"
   ]
  },
  {
   "cell_type": "code",
   "execution_count": 18,
   "metadata": {},
   "outputs": [],
   "source": [
    "df_insert = df_new_entries.copy()"
   ]
  },
  {
   "cell_type": "code",
   "execution_count": 19,
   "metadata": {},
   "outputs": [],
   "source": [
    "def create_insert_query(table):\n",
    "    \"\"\"Create the insert query\"\"\"\n",
    "    columns = ', '.join([f'{col}' for col in DATABASE_COLUMNS])\n",
    "    constraint = ', '.join([f'{col}' for col in PRIMARY_KEY])\n",
    "    placeholder = ', '.join([f'%({col})s' for col in DATABASE_COLUMNS])\n",
    "    updates = ', '.join([f'{col} = EXCLUDED.{col}' for col in DATABASE_COLUMNS])\n",
    "    query = f\"\"\"INSERT INTO {table} ({columns})\n",
    "                VALUES ({placeholder})\n",
    "                \"\"\"\n",
    "    query.split()\n",
    "    query = ' '.join(query.split())\n",
    "    return query\n",
    "\n",
    "def load_inserts(df, table, connection):\n",
    "    cursor = connection.cursor()\n",
    "    df1 = df\n",
    "    insert_values = df1.applymap(lambda x: None if pd.isnull(x) else x).to_dict(orient='records')\n",
    "    for row in insert_values:\n",
    "        cursor.execute(create_insert_query(table=table), row)\n",
    "        conn.commit()\n",
    "    row_count = len(insert_values)\n",
    "    print(f'Inserted {row_count} rows.')\n",
    "    cursor.close()\n",
    "    del cursor\n",
    "    conn.close()"
   ]
  },
  {
   "cell_type": "code",
   "execution_count": 21,
   "metadata": {},
   "outputs": [],
   "source": [
    "DATABASE_COLUMNS = ['contact_id','domain','email','name','phone']\n",
    "PRIMARY_KEY = ['domain']"
   ]
  },
  {
   "cell_type": "code",
   "execution_count": 22,
   "metadata": {},
   "outputs": [
    {
     "name": "stdout",
     "output_type": "stream",
     "text": [
      "Inserted 10554 rows.\n"
     ]
    }
   ],
   "source": [
    "DATABASE_COLUMNS = ['contact_id','domain','email','name','phone']\n",
    "PRIMARY_KEY = ['domain']\n",
    "conn = eng.raw_connection()\n",
    "load_inserts(df_insert.applymap(lambda x: None if pd.isnull(x) else x), 'solution_patrick', conn)"
   ]
  },
  {
   "cell_type": "markdown",
   "metadata": {},
   "source": [
    "### Part 2 `df_update`: Entries in `company_contacts.csv` with a matching `domain` in `companies`"
   ]
  },
  {
   "cell_type": "code",
   "execution_count": 24,
   "metadata": {},
   "outputs": [
    {
     "data": {
      "text/plain": [
       "2997"
      ]
     },
     "execution_count": 24,
     "metadata": {},
     "output_type": "execute_result"
    }
   ],
   "source": [
    "# Update data with matching domains from company\n",
    "df_update = pd.DataFrame()\n",
    "# Intially load the data from `company_contacts.csv` that has a domain name in the `companies` table\n",
    "\n",
    "df_update = df_contacts[df_contacts['homepage_url'].apply(get_domain).isin(df_company_db['domain'])].copy()\n",
    "df_update['domain'] = df_update['homepage_url'].apply(get_domain)\n",
    "# Merge name via domain lookup\n",
    "df_overlaps = df_company_db[df_company_db['domain'].isin(df_contacts['homepage_url'].apply(get_domain))].copy() # Restrict search space to improve lookup speed\n",
    "def get_name_via_domain(row):\n",
    "    if not row['domain']: return None # Short circuit\n",
    "    return df_overlaps[df_overlaps['domain']==row['domain']]['name'].values[0]\n",
    "    \n",
    "df_update['name'] = df_update.apply(get_name_via_domain, axis=1)\n",
    "df_update['domain'] = df_update['homepage_url'].apply(get_domain)\n",
    "df_update['phone'] = df_update['phone'].apply(combined_clean)\n",
    "df_update['contact_id'] = df_update['uuid']\n",
    "df_update.drop(axis=1,columns='homepage_url', inplace=True)\n",
    "df_update.drop(axis=1,columns='uuid', inplace=True)\n",
    "len(df_update)"
   ]
  },
  {
   "cell_type": "code",
   "execution_count": 25,
   "metadata": {},
   "outputs": [
    {
     "data": {
      "text/html": [
       "<div>\n",
       "<style scoped>\n",
       "    .dataframe tbody tr th:only-of-type {\n",
       "        vertical-align: middle;\n",
       "    }\n",
       "\n",
       "    .dataframe tbody tr th {\n",
       "        vertical-align: top;\n",
       "    }\n",
       "\n",
       "    .dataframe thead th {\n",
       "        text-align: right;\n",
       "    }\n",
       "</style>\n",
       "<table border=\"1\" class=\"dataframe\">\n",
       "  <thead>\n",
       "    <tr style=\"text-align: right;\">\n",
       "      <th></th>\n",
       "      <th>email</th>\n",
       "      <th>phone</th>\n",
       "      <th>domain</th>\n",
       "      <th>name</th>\n",
       "      <th>contact_id</th>\n",
       "    </tr>\n",
       "  </thead>\n",
       "  <tbody>\n",
       "  </tbody>\n",
       "</table>\n",
       "</div>"
      ],
      "text/plain": [
       "Empty DataFrame\n",
       "Columns: [email, phone, domain, name, contact_id]\n",
       "Index: []"
      ]
     },
     "execution_count": 25,
     "metadata": {},
     "output_type": "execute_result"
    }
   ],
   "source": [
    "df_update[df_update['contact_id'].apply(len)<2]"
   ]
  },
  {
   "cell_type": "markdown",
   "metadata": {},
   "source": [
    "### Perform Update in Postgres"
   ]
  },
  {
   "cell_type": "code",
   "execution_count": 26,
   "metadata": {},
   "outputs": [],
   "source": [
    "def create_update_query(table, condition, row_dict):\n",
    "    \"\"\"Create the update query statement\"\"\"\n",
    "    sql_statement = f\"\"\"UPDATE {table} SET\"\"\"\n",
    "    update_clauses = []\n",
    "    for k, v in row_dict.items():\n",
    "        update_clauses.append(f\" {k} = %({k})s \")\n",
    "    \n",
    "    sql_statement = sql_statement+ ', '.join(update_clauses)+ f\" WHERE {condition} = %({condition})s \"\n",
    "    return sql_statement\n",
    "\n",
    "def load_updates(df, table, connection):\n",
    "    cursor = connection.cursor()\n",
    "    df1 = df\n",
    "    update_values = df1.applymap(lambda x: None if pd.isnull(x) else x).to_dict(orient='records')\n",
    "    for row in update_values:\n",
    "        cursor.execute(create_update_query(table, 'domain', row), row)\n",
    "        conn.commit()\n",
    "    row_count = len(update_values)\n",
    "    print(f'Updated {row_count} rows.')\n",
    "    cursor.close()\n",
    "    del cursor\n",
    "    conn.close()"
   ]
  },
  {
   "cell_type": "code",
   "execution_count": 27,
   "metadata": {},
   "outputs": [
    {
     "data": {
      "text/plain": [
       "'UPDATE solution_patrick SET email = %(email)s ,  phone = %(phone)s ,  domain = %(domain)s ,  name = %(name)s ,  contact_id = %(contact_id)s  WHERE domain = %(domain)s '"
      ]
     },
     "execution_count": 27,
     "metadata": {},
     "output_type": "execute_result"
    }
   ],
   "source": [
    "update_row = df_update.to_dict(orient='records')[0]\n",
    "create_update_query('solution_patrick', 'domain', update_row)"
   ]
  },
  {
   "cell_type": "code",
   "execution_count": 28,
   "metadata": {},
   "outputs": [
    {
     "name": "stdout",
     "output_type": "stream",
     "text": [
      "Updated 2997 rows.\n"
     ]
    }
   ],
   "source": [
    "conn = eng.raw_connection()\n",
    "load_updates(df_update.applymap(lambda x: None if pd.isnull(x) else x), 'solution_patrick', conn)"
   ]
  },
  {
   "cell_type": "markdown",
   "metadata": {},
   "source": [
    "## Check the Result"
   ]
  },
  {
   "cell_type": "code",
   "execution_count": 29,
   "metadata": {},
   "outputs": [
    {
     "name": "stdout",
     "output_type": "stream",
     "text": [
      "(1588450, 5)\n"
     ]
    },
    {
     "data": {
      "text/html": [
       "<div>\n",
       "<style scoped>\n",
       "    .dataframe tbody tr th:only-of-type {\n",
       "        vertical-align: middle;\n",
       "    }\n",
       "\n",
       "    .dataframe tbody tr th {\n",
       "        vertical-align: top;\n",
       "    }\n",
       "\n",
       "    .dataframe thead th {\n",
       "        text-align: right;\n",
       "    }\n",
       "</style>\n",
       "<table border=\"1\" class=\"dataframe\">\n",
       "  <thead>\n",
       "    <tr style=\"text-align: right;\">\n",
       "      <th></th>\n",
       "      <th>name</th>\n",
       "      <th>domain</th>\n",
       "      <th>email</th>\n",
       "      <th>phone</th>\n",
       "      <th>contact_id</th>\n",
       "    </tr>\n",
       "  </thead>\n",
       "  <tbody>\n",
       "    <tr>\n",
       "      <th>0</th>\n",
       "      <td>KOBE Law Office</td>\n",
       "      <td>kobe-law.jp</td>\n",
       "      <td>None</td>\n",
       "      <td>None</td>\n",
       "      <td>None</td>\n",
       "    </tr>\n",
       "    <tr>\n",
       "      <th>1</th>\n",
       "      <td>KOBELCO Advanced Coating (America), Inc.</td>\n",
       "      <td>kobac-us.com</td>\n",
       "      <td>None</td>\n",
       "      <td>None</td>\n",
       "      <td>None</td>\n",
       "    </tr>\n",
       "    <tr>\n",
       "      <th>2</th>\n",
       "      <td>Kobelco Business Support Co. Ltd.</td>\n",
       "      <td>kobelco-kbs.co.jp</td>\n",
       "      <td>None</td>\n",
       "      <td>None</td>\n",
       "      <td>None</td>\n",
       "    </tr>\n",
       "    <tr>\n",
       "      <th>3</th>\n",
       "      <td>Kobelco Compressors Corp.</td>\n",
       "      <td>kobelco-comp.co.jp</td>\n",
       "      <td>None</td>\n",
       "      <td>None</td>\n",
       "      <td>None</td>\n",
       "    </tr>\n",
       "    <tr>\n",
       "      <th>4</th>\n",
       "      <td>KOBELCO Compressors &amp; Machinery Philippines Corp.</td>\n",
       "      <td>kobelco.com.ph</td>\n",
       "      <td>None</td>\n",
       "      <td>None</td>\n",
       "      <td>None</td>\n",
       "    </tr>\n",
       "  </tbody>\n",
       "</table>\n",
       "</div>"
      ],
      "text/plain": [
       "                                                name              domain  \\\n",
       "0                                    KOBE Law Office         kobe-law.jp   \n",
       "1           KOBELCO Advanced Coating (America), Inc.        kobac-us.com   \n",
       "2                  Kobelco Business Support Co. Ltd.   kobelco-kbs.co.jp   \n",
       "3                          Kobelco Compressors Corp.  kobelco-comp.co.jp   \n",
       "4  KOBELCO Compressors & Machinery Philippines Corp.      kobelco.com.ph   \n",
       "\n",
       "  email phone contact_id  \n",
       "0  None  None       None  \n",
       "1  None  None       None  \n",
       "2  None  None       None  \n",
       "3  None  None       None  \n",
       "4  None  None       None  "
      ]
     },
     "execution_count": 29,
     "metadata": {},
     "output_type": "execute_result"
    }
   ],
   "source": [
    "df_result = pd.read_sql('SELECT * FROM solution_patrick',con=eng)\n",
    "print(df_result.shape)\n",
    "df_result.head()"
   ]
  },
  {
   "cell_type": "code",
   "execution_count": 30,
   "metadata": {},
   "outputs": [
    {
     "data": {
      "text/html": [
       "<div>\n",
       "<style scoped>\n",
       "    .dataframe tbody tr th:only-of-type {\n",
       "        vertical-align: middle;\n",
       "    }\n",
       "\n",
       "    .dataframe tbody tr th {\n",
       "        vertical-align: top;\n",
       "    }\n",
       "\n",
       "    .dataframe thead th {\n",
       "        text-align: right;\n",
       "    }\n",
       "</style>\n",
       "<table border=\"1\" class=\"dataframe\">\n",
       "  <thead>\n",
       "    <tr style=\"text-align: right;\">\n",
       "      <th></th>\n",
       "      <th>name</th>\n",
       "      <th>domain</th>\n",
       "      <th>email</th>\n",
       "      <th>phone</th>\n",
       "      <th>contact_id</th>\n",
       "    </tr>\n",
       "  </thead>\n",
       "  <tbody>\n",
       "    <tr>\n",
       "      <th>count</th>\n",
       "      <td>1577896</td>\n",
       "      <td>1588350</td>\n",
       "      <td>7901</td>\n",
       "      <td>11622</td>\n",
       "      <td>13064</td>\n",
       "    </tr>\n",
       "    <tr>\n",
       "      <th>unique</th>\n",
       "      <td>1577886</td>\n",
       "      <td>1588344</td>\n",
       "      <td>7860</td>\n",
       "      <td>11083</td>\n",
       "      <td>13064</td>\n",
       "    </tr>\n",
       "    <tr>\n",
       "      <th>top</th>\n",
       "      <td>Marufuji KK (Tokyo)</td>\n",
       "      <td>www.hsbc.com</td>\n",
       "      <td>info@amstock.com</td>\n",
       "      <td>1 9999999999</td>\n",
       "      <td>5f053b76-0f2a-4092-9162-1868d58dfb53</td>\n",
       "    </tr>\n",
       "    <tr>\n",
       "      <th>freq</th>\n",
       "      <td>2</td>\n",
       "      <td>2</td>\n",
       "      <td>6</td>\n",
       "      <td>17</td>\n",
       "      <td>1</td>\n",
       "    </tr>\n",
       "  </tbody>\n",
       "</table>\n",
       "</div>"
      ],
      "text/plain": [
       "                       name        domain             email         phone  \\\n",
       "count               1577896       1588350              7901         11622   \n",
       "unique              1577886       1588344              7860         11083   \n",
       "top     Marufuji KK (Tokyo)  www.hsbc.com  info@amstock.com  1 9999999999   \n",
       "freq                      2             2                 6            17   \n",
       "\n",
       "                                  contact_id  \n",
       "count                                  13064  \n",
       "unique                                 13064  \n",
       "top     5f053b76-0f2a-4092-9162-1868d58dfb53  \n",
       "freq                                       1  "
      ]
     },
     "execution_count": 30,
     "metadata": {},
     "output_type": "execute_result"
    }
   ],
   "source": [
    "df_result.describe()"
   ]
  },
  {
   "cell_type": "markdown",
   "metadata": {},
   "source": [
    "Solution checks out -- we expect domain for all of out entries, with some duplicates. Some manual cleaning is likely required for bogus entries. From here we have to address normalizing this table into 3NF a company / contact pair of tables to reduce upsert complexity and anomalies. Once that rigor is introduced to the data model, we can explore the process that generates this data and potentially build the process into a data pipleline"
   ]
  }
 ],
 "metadata": {
  "kernelspec": {
   "display_name": "Python 3",
   "language": "python",
   "name": "python3"
  },
  "language_info": {
   "codemirror_mode": {
    "name": "ipython",
    "version": 3
   },
   "file_extension": ".py",
   "mimetype": "text/x-python",
   "name": "python",
   "nbconvert_exporter": "python",
   "pygments_lexer": "ipython3",
   "version": "3.6.5"
  }
 },
 "nbformat": 4,
 "nbformat_minor": 2
}
